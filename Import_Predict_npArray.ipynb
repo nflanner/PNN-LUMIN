{
 "cells": [
  {
   "cell_type": "code",
   "execution_count": 35,
   "metadata": {},
   "outputs": [],
   "source": [
    "import os\n",
    "import sys\n",
    "sys.path.append('../../')\n",
    "from modules.data_import import *\n",
    "from modules.basics import *\n",
    "from modules.features import *\n",
    "\n",
    "from lumin.nn.callbacks.data_callbacks import ParametrisedPrediction\n",
    "\n",
    "%matplotlib inline\n",
    "%reload_ext autoreload\n",
    "%autoreload 2\n",
    "import uproot3\n",
    "import pandas as pd\n",
    "import matplotlib.pyplot as plt\n",
    "from fastprogress import progress_bar, master_bar\n",
    "import copy\n",
    "from typing import Callable, Tuple\n",
    "import json\n",
    "\n",
    "from sklearn.model_selection import train_test_split"
   ]
  },
  {
   "cell_type": "code",
   "execution_count": 36,
   "metadata": {},
   "outputs": [],
   "source": [
    "run_name = '11-24-2021'"
   ]
  },
  {
   "cell_type": "code",
   "execution_count": 37,
   "metadata": {},
   "outputs": [
    {
     "data": {
      "text/html": [
       "\n",
       "    <div>\n",
       "        <style>\n",
       "            /* Turns off some styling */\n",
       "            progress {\n",
       "                /* gets rid of default border in Firefox and Opera. */\n",
       "                border: none;\n",
       "                /* Needs to be in here for Safari polyfill so background images work as expected. */\n",
       "                background-size: auto;\n",
       "            }\n",
       "            .progress-bar-interrupted, .progress-bar-interrupted::-webkit-progress-bar {\n",
       "                background: #F44336;\n",
       "            }\n",
       "        </style>\n",
       "      <progress value='10' class='' max='10', style='width:300px; height:20px; vertical-align: middle;'></progress>\n",
       "      100.00% [10/10 00:00<00:00]\n",
       "    </div>\n",
       "    "
      ],
      "text/plain": [
       "<IPython.core.display.HTML object>"
      ]
     },
     "metadata": {},
     "output_type": "display_data"
    },
    {
     "data": {
      "text/html": [
       "\n",
       "    <div>\n",
       "        <style>\n",
       "            /* Turns off some styling */\n",
       "            progress {\n",
       "                /* gets rid of default border in Firefox and Opera. */\n",
       "                border: none;\n",
       "                /* Needs to be in here for Safari polyfill so background images work as expected. */\n",
       "                background-size: auto;\n",
       "            }\n",
       "            .progress-bar-interrupted, .progress-bar-interrupted::-webkit-progress-bar {\n",
       "                background: #F44336;\n",
       "            }\n",
       "        </style>\n",
       "      <progress value='10' class='' max='10', style='width:300px; height:20px; vertical-align: middle;'></progress>\n",
       "      100.00% [10/10 00:00<00:00]\n",
       "    </div>\n",
       "    "
      ],
      "text/plain": [
       "<IPython.core.display.HTML object>"
      ]
     },
     "metadata": {},
     "output_type": "display_data"
    }
   ],
   "source": [
    "ensemble_0 = Ensemble.from_save(f'weights/selected_set_0_{run_name}')\n",
    "ensemble_1 = Ensemble.from_save(f'weights/selected_set_1_{run_name}')"
   ]
  },
  {
   "cell_type": "code",
   "execution_count": 38,
   "metadata": {},
   "outputs": [],
   "source": [
    "PATH = Path('../../../MC/')"
   ]
  },
  {
   "cell_type": "code",
   "execution_count": 39,
   "metadata": {},
   "outputs": [],
   "source": [
    "res_mass = [900]"
   ]
  },
  {
   "cell_type": "code",
   "execution_count": 40,
   "metadata": {},
   "outputs": [
    {
     "data": {
      "text/plain": [
       "{'GluGluToRadionToHHTo2B2ZTo2L2J_M-900_narrow_13TeV-madgraph-v2': <TTree b'Events' at 0x02ea31d240d0>}"
      ]
     },
     "execution_count": 40,
     "metadata": {},
     "output_type": "execute_result"
    }
   ],
   "source": [
    "PATH = Path('../../../MC')\n",
    "signal = {'GluGluToRadionToHHTo2B2ZTo2L2J_M-'+str(i)+'_narrow_13TeV-madgraph-v2': uproot3.open(PATH/('GluGluToRadionToHHTo2B2ZTo2L2J_M-'+str(i)+'_narrow_13TeV-madgraph-v2.root'))[\"Events\"] for i in res_mass}\n",
    "# background = {i: uproot3.open(PATH/(i+'.root'))[\"Events\"] for i in\\\n",
    "#               ['DYJetsToLL_M-10to50_TuneCUETP8M1_13TeV-amcatnloFXFX-pythia8', 'DYToLL_0J_13TeV-amcatnloFXFX-pythia8',\\\n",
    "#                'DYToLL_1J_13TeV-amcatnloFXFX-pythia8','DYToLL_2J_13TeV-amcatnloFXFX-pythia8']}\n",
    "# print(background)\n",
    "signal"
   ]
  },
  {
   "cell_type": "code",
   "execution_count": 41,
   "metadata": {},
   "outputs": [],
   "source": [
    "feats = [\"Higgsbb_cand_pt\",\"Zjet_cand_pt\",\n",
    "            \"leading_Hbb_pt\",\"trailing_Hbb_pt\",\"leading_jet_pt\",\"trailing_jet_pt\",\n",
    "             \"Higgsbb_cand_mass\",\"HiggsZZ_cand_mass\",\"Zlep_cand_mass\",\n",
    "             \"Zjet_cand_mass\",\"Zlep_cand_pt\",         \n",
    "             \"dR_l1j1\",\"dR_l1j2\",\"dR_l1b1\",\"dR_l1b2\",\n",
    "             \"dR_l2j1\",\"dR_l2j2\",\"dR_l2b1\",\"dR_l2b2\",\n",
    "             \"dR_j1j2\",\"dR_b1b2\"]\n",
    "\n",
    "# these are the extra variables (outside the selected variables) used for preselection cut\n",
    "pre_feats = [\"ngood_bjets\", \"leading_lep_pt\", \"trailing_lep_pt\", \"lep_category\"]"
   ]
  },
  {
   "cell_type": "code",
   "execution_count": 42,
   "metadata": {},
   "outputs": [
    {
     "name": "stdout",
     "output_type": "stream",
     "text": [
      "shape of signal df before preselection cuts: (65639, 26)\n"
     ]
    }
   ],
   "source": [
    "# create signal DataFrame\n",
    "for i, tree in enumerate(signal.values()):\n",
    "    if i == 0:\n",
    "        pre_sig_df = tree.pandas.df(feats+pre_feats)\n",
    "        pre_sig_df['res_mass'] = res_mass[i]\n",
    "    else:\n",
    "        add_df = tree.pandas.df(feats+pre_feats)\n",
    "        add_df['res_mass'] = res_mass[i]\n",
    "        pre_sig_df = pre_sig_df.append(add_df, ignore_index=True)\n",
    "print('shape of signal df before preselection cuts: {}'.format(pre_sig_df.shape))"
   ]
  },
  {
   "cell_type": "code",
   "execution_count": 43,
   "metadata": {},
   "outputs": [
    {
     "name": "stdout",
     "output_type": "stream",
     "text": [
      "shape of signal df after preselection cuts: (36413, 22)\n"
     ]
    },
    {
     "data": {
      "text/html": [
       "<div>\n",
       "<style scoped>\n",
       "    .dataframe tbody tr th:only-of-type {\n",
       "        vertical-align: middle;\n",
       "    }\n",
       "\n",
       "    .dataframe tbody tr th {\n",
       "        vertical-align: top;\n",
       "    }\n",
       "\n",
       "    .dataframe thead th {\n",
       "        text-align: right;\n",
       "    }\n",
       "</style>\n",
       "<table border=\"1\" class=\"dataframe\">\n",
       "  <thead>\n",
       "    <tr style=\"text-align: right;\">\n",
       "      <th></th>\n",
       "      <th>Higgsbb_cand_pt</th>\n",
       "      <th>Zjet_cand_pt</th>\n",
       "      <th>leading_Hbb_pt</th>\n",
       "      <th>trailing_Hbb_pt</th>\n",
       "      <th>leading_jet_pt</th>\n",
       "      <th>trailing_jet_pt</th>\n",
       "      <th>Higgsbb_cand_mass</th>\n",
       "      <th>HiggsZZ_cand_mass</th>\n",
       "      <th>Zlep_cand_mass</th>\n",
       "      <th>Zjet_cand_mass</th>\n",
       "      <th>...</th>\n",
       "      <th>dR_l1j2</th>\n",
       "      <th>dR_l1b1</th>\n",
       "      <th>dR_l1b2</th>\n",
       "      <th>dR_l2j1</th>\n",
       "      <th>dR_l2j2</th>\n",
       "      <th>dR_l2b1</th>\n",
       "      <th>dR_l2b2</th>\n",
       "      <th>dR_j1j2</th>\n",
       "      <th>dR_b1b2</th>\n",
       "      <th>res_mass</th>\n",
       "    </tr>\n",
       "    <tr>\n",
       "      <th>entry</th>\n",
       "      <th></th>\n",
       "      <th></th>\n",
       "      <th></th>\n",
       "      <th></th>\n",
       "      <th></th>\n",
       "      <th></th>\n",
       "      <th></th>\n",
       "      <th></th>\n",
       "      <th></th>\n",
       "      <th></th>\n",
       "      <th></th>\n",
       "      <th></th>\n",
       "      <th></th>\n",
       "      <th></th>\n",
       "      <th></th>\n",
       "      <th></th>\n",
       "      <th></th>\n",
       "      <th></th>\n",
       "      <th></th>\n",
       "      <th></th>\n",
       "      <th></th>\n",
       "    </tr>\n",
       "  </thead>\n",
       "  <tbody>\n",
       "    <tr>\n",
       "      <th>1</th>\n",
       "      <td>470.274078</td>\n",
       "      <td>69.387245</td>\n",
       "      <td>197.698395</td>\n",
       "      <td>281.912811</td>\n",
       "      <td>68.283752</td>\n",
       "      <td>56.930706</td>\n",
       "      <td>144.301208</td>\n",
       "      <td>308.775360</td>\n",
       "      <td>51.124199</td>\n",
       "      <td>106.675987</td>\n",
       "      <td>...</td>\n",
       "      <td>0.508707</td>\n",
       "      <td>2.649336</td>\n",
       "      <td>3.062102</td>\n",
       "      <td>1.641656</td>\n",
       "      <td>0.637177</td>\n",
       "      <td>3.062136</td>\n",
       "      <td>2.843800</td>\n",
       "      <td>1.993926</td>\n",
       "      <td>0.566757</td>\n",
       "      <td>900</td>\n",
       "    </tr>\n",
       "    <tr>\n",
       "      <th>2</th>\n",
       "      <td>375.418915</td>\n",
       "      <td>71.730560</td>\n",
       "      <td>103.911789</td>\n",
       "      <td>280.417694</td>\n",
       "      <td>51.486023</td>\n",
       "      <td>31.303640</td>\n",
       "      <td>96.344688</td>\n",
       "      <td>296.791565</td>\n",
       "      <td>81.792267</td>\n",
       "      <td>68.787354</td>\n",
       "      <td>...</td>\n",
       "      <td>0.539379</td>\n",
       "      <td>2.917649</td>\n",
       "      <td>2.422785</td>\n",
       "      <td>2.091218</td>\n",
       "      <td>0.467008</td>\n",
       "      <td>2.385195</td>\n",
       "      <td>1.885081</td>\n",
       "      <td>1.646023</td>\n",
       "      <td>0.526729</td>\n",
       "      <td>900</td>\n",
       "    </tr>\n",
       "    <tr>\n",
       "      <th>4</th>\n",
       "      <td>508.262238</td>\n",
       "      <td>139.129593</td>\n",
       "      <td>270.960388</td>\n",
       "      <td>462.437012</td>\n",
       "      <td>124.875504</td>\n",
       "      <td>78.482559</td>\n",
       "      <td>621.973267</td>\n",
       "      <td>604.346436</td>\n",
       "      <td>92.035095</td>\n",
       "      <td>181.038681</td>\n",
       "      <td>...</td>\n",
       "      <td>1.379122</td>\n",
       "      <td>2.158625</td>\n",
       "      <td>2.594162</td>\n",
       "      <td>2.842100</td>\n",
       "      <td>1.852190</td>\n",
       "      <td>2.624687</td>\n",
       "      <td>2.122317</td>\n",
       "      <td>1.951550</td>\n",
       "      <td>1.898677</td>\n",
       "      <td>900</td>\n",
       "    </tr>\n",
       "    <tr>\n",
       "      <th>5</th>\n",
       "      <td>405.033081</td>\n",
       "      <td>20.930138</td>\n",
       "      <td>342.810577</td>\n",
       "      <td>67.703186</td>\n",
       "      <td>46.823524</td>\n",
       "      <td>42.669544</td>\n",
       "      <td>134.217072</td>\n",
       "      <td>292.647858</td>\n",
       "      <td>91.762306</td>\n",
       "      <td>94.201126</td>\n",
       "      <td>...</td>\n",
       "      <td>0.441445</td>\n",
       "      <td>2.963690</td>\n",
       "      <td>2.970528</td>\n",
       "      <td>2.497824</td>\n",
       "      <td>0.837069</td>\n",
       "      <td>2.879490</td>\n",
       "      <td>2.689666</td>\n",
       "      <td>2.781203</td>\n",
       "      <td>0.831057</td>\n",
       "      <td>900</td>\n",
       "    </tr>\n",
       "    <tr>\n",
       "      <th>6</th>\n",
       "      <td>144.603714</td>\n",
       "      <td>69.748596</td>\n",
       "      <td>112.283226</td>\n",
       "      <td>33.257378</td>\n",
       "      <td>37.629398</td>\n",
       "      <td>35.917488</td>\n",
       "      <td>48.743980</td>\n",
       "      <td>137.288315</td>\n",
       "      <td>31.433678</td>\n",
       "      <td>45.852699</td>\n",
       "      <td>...</td>\n",
       "      <td>0.569778</td>\n",
       "      <td>3.629981</td>\n",
       "      <td>3.933781</td>\n",
       "      <td>1.271678</td>\n",
       "      <td>0.724459</td>\n",
       "      <td>3.411037</td>\n",
       "      <td>3.674039</td>\n",
       "      <td>1.136367</td>\n",
       "      <td>0.692858</td>\n",
       "      <td>900</td>\n",
       "    </tr>\n",
       "  </tbody>\n",
       "</table>\n",
       "<p>5 rows × 22 columns</p>\n",
       "</div>"
      ],
      "text/plain": [
       "       Higgsbb_cand_pt  Zjet_cand_pt  leading_Hbb_pt  trailing_Hbb_pt  \\\n",
       "entry                                                                   \n",
       "1           470.274078     69.387245      197.698395       281.912811   \n",
       "2           375.418915     71.730560      103.911789       280.417694   \n",
       "4           508.262238    139.129593      270.960388       462.437012   \n",
       "5           405.033081     20.930138      342.810577        67.703186   \n",
       "6           144.603714     69.748596      112.283226        33.257378   \n",
       "\n",
       "       leading_jet_pt  trailing_jet_pt  Higgsbb_cand_mass  HiggsZZ_cand_mass  \\\n",
       "entry                                                                          \n",
       "1           68.283752        56.930706         144.301208         308.775360   \n",
       "2           51.486023        31.303640          96.344688         296.791565   \n",
       "4          124.875504        78.482559         621.973267         604.346436   \n",
       "5           46.823524        42.669544         134.217072         292.647858   \n",
       "6           37.629398        35.917488          48.743980         137.288315   \n",
       "\n",
       "       Zlep_cand_mass  Zjet_cand_mass  ...   dR_l1j2   dR_l1b1   dR_l1b2  \\\n",
       "entry                                  ...                                 \n",
       "1           51.124199      106.675987  ...  0.508707  2.649336  3.062102   \n",
       "2           81.792267       68.787354  ...  0.539379  2.917649  2.422785   \n",
       "4           92.035095      181.038681  ...  1.379122  2.158625  2.594162   \n",
       "5           91.762306       94.201126  ...  0.441445  2.963690  2.970528   \n",
       "6           31.433678       45.852699  ...  0.569778  3.629981  3.933781   \n",
       "\n",
       "        dR_l2j1   dR_l2j2   dR_l2b1   dR_l2b2   dR_j1j2   dR_b1b2  res_mass  \n",
       "entry                                                                        \n",
       "1      1.641656  0.637177  3.062136  2.843800  1.993926  0.566757       900  \n",
       "2      2.091218  0.467008  2.385195  1.885081  1.646023  0.526729       900  \n",
       "4      2.842100  1.852190  2.624687  2.122317  1.951550  1.898677       900  \n",
       "5      2.497824  0.837069  2.879490  2.689666  2.781203  0.831057       900  \n",
       "6      1.271678  0.724459  3.411037  3.674039  1.136367  0.692858       900  \n",
       "\n",
       "[5 rows x 22 columns]"
      ]
     },
     "execution_count": 43,
     "metadata": {},
     "output_type": "execute_result"
    }
   ],
   "source": [
    "sig_df = pd.DataFrame(pre_sig_df.loc[(pre_sig_df.ngood_bjets > 0) & (pre_sig_df.lep_category == 2) & (pre_sig_df.Zlep_cand_mass > 15) &\n",
    "                                     (pre_sig_df.leading_lep_pt > 20) & (pre_sig_df.trailing_lep_pt > 10) & (pre_sig_df.leading_Hbb_pt > 20) &\n",
    "                                     (pre_sig_df.trailing_Hbb_pt > 20) & (pre_sig_df.leading_jet_pt > 20) & (pre_sig_df.trailing_jet_pt > 20)])\n",
    "\n",
    "# drop preselection features that are not in our desired features\n",
    "sig_df.drop(columns=[f for f in pre_feats], inplace=True)\n",
    "# bkg_df.drop(columns=[f for f in pre_feats], inplace=True)\n",
    "\n",
    "print('shape of signal df after preselection cuts: {}'.format(sig_df.shape))\n",
    "# print('shape of background df after preselection cuts: {}'.format(bkg_df.shape\n",
    "sig_df.head()"
   ]
  },
  {
   "cell_type": "code",
   "execution_count": 44,
   "metadata": {},
   "outputs": [],
   "source": [
    "# sig_df['Label'] = 1\n",
    "# bkg_df['Label'] = 0\n",
    "\n",
    "# df = sig_df[:].append(bkg_df[:], ignore_index=True)\n",
    "sig_df.rename(index=str, columns={'weight_central':'gen_weight'}, inplace=True)\n",
    "\n",
    "# add weights=1 for now\n",
    "sig_df['gen_weight'] = 1\n",
    "# add_bkg_res_mass(df); df"
   ]
  },
  {
   "cell_type": "code",
   "execution_count": 45,
   "metadata": {},
   "outputs": [
    {
     "name": "stdout",
     "output_type": "stream",
     "text": [
      "0 []\n",
      "22 ['Higgsbb_cand_pt', 'Zjet_cand_pt', 'leading_Hbb_pt', 'trailing_Hbb_pt', 'leading_jet_pt', 'trailing_jet_pt', 'Higgsbb_cand_mass', 'HiggsZZ_cand_mass', 'Zlep_cand_mass', 'Zjet_cand_mass', 'Zlep_cand_pt', 'dR_l1j1', 'dR_l1j2', 'dR_l1b1', 'dR_l1b2', 'dR_l2j1', 'dR_l2j2', 'dR_l2b1', 'dR_l2b2', 'dR_j1j2', 'dR_b1b2', 'res_mass']\n"
     ]
    },
    {
     "data": {
      "text/plain": [
       "['Higgsbb_cand_pt',\n",
       " 'Zjet_cand_pt',\n",
       " 'leading_Hbb_pt',\n",
       " 'trailing_Hbb_pt',\n",
       " 'leading_jet_pt',\n",
       " 'trailing_jet_pt',\n",
       " 'Higgsbb_cand_mass',\n",
       " 'HiggsZZ_cand_mass',\n",
       " 'Zlep_cand_mass',\n",
       " 'Zjet_cand_mass',\n",
       " 'Zlep_cand_pt',\n",
       " 'dR_l1j1',\n",
       " 'dR_l1j2',\n",
       " 'dR_l1b1',\n",
       " 'dR_l1b2',\n",
       " 'dR_l2j1',\n",
       " 'dR_l2j2',\n",
       " 'dR_l2b1',\n",
       " 'dR_l2b2',\n",
       " 'dR_j1j2',\n",
       " 'dR_b1b2',\n",
       " 'res_mass']"
      ]
     },
     "execution_count": 45,
     "metadata": {},
     "output_type": "execute_result"
    }
   ],
   "source": [
    "targ_feat = 'gen_target'\n",
    "gen_feats = [f for f in sig_df.columns if 'gen_' in f]\n",
    "misc_feats = []\n",
    "wgt_feat = 'gen_weight'\n",
    "cat_feats = []\n",
    "cont_feats = [f for f in sig_df.columns if f not in gen_feats+cat_feats+misc_feats]\n",
    "print(len(cat_feats), cat_feats)\n",
    "print(len(cont_feats), cont_feats)\n",
    "train_feats = cont_feats + cat_feats\n",
    "train_feats"
   ]
  },
  {
   "cell_type": "markdown",
   "metadata": {},
   "source": [
    "##### From training - 22 Continuous: ['Higgsbb_cand_pt', 'Zjet_cand_pt', 'leading_Hbb_pt', 'trailing_Hbb_pt', 'leading_jet_pt', 'trailing_jet_pt', 'Higgsbb_cand_mass', 'HiggsZZ_cand_mass', 'Zlep_cand_mass', 'Zjet_cand_mass', 'Zlep_cand_pt', 'dR_l1j1', 'dR_l1j2', 'dR_l1b1', 'dR_l1b2', 'dR_l2j1', 'dR_l2j2', 'dR_l2b1', 'dR_l2b2', 'dR_j1j2', 'dR_b1b2', 'res_mass']"
   ]
  },
  {
   "cell_type": "code",
   "execution_count": 46,
   "metadata": {},
   "outputs": [
    {
     "data": {
      "text/html": [
       "<div>\n",
       "<style scoped>\n",
       "    .dataframe tbody tr th:only-of-type {\n",
       "        vertical-align: middle;\n",
       "    }\n",
       "\n",
       "    .dataframe tbody tr th {\n",
       "        vertical-align: top;\n",
       "    }\n",
       "\n",
       "    .dataframe thead th {\n",
       "        text-align: right;\n",
       "    }\n",
       "</style>\n",
       "<table border=\"1\" class=\"dataframe\">\n",
       "  <thead>\n",
       "    <tr style=\"text-align: right;\">\n",
       "      <th></th>\n",
       "      <th>Higgsbb_cand_pt</th>\n",
       "      <th>Zjet_cand_pt</th>\n",
       "      <th>leading_Hbb_pt</th>\n",
       "      <th>trailing_Hbb_pt</th>\n",
       "      <th>leading_jet_pt</th>\n",
       "      <th>trailing_jet_pt</th>\n",
       "      <th>Higgsbb_cand_mass</th>\n",
       "      <th>HiggsZZ_cand_mass</th>\n",
       "      <th>Zlep_cand_mass</th>\n",
       "      <th>Zjet_cand_mass</th>\n",
       "      <th>...</th>\n",
       "      <th>dR_l1b1</th>\n",
       "      <th>dR_l1b2</th>\n",
       "      <th>dR_l2j1</th>\n",
       "      <th>dR_l2j2</th>\n",
       "      <th>dR_l2b1</th>\n",
       "      <th>dR_l2b2</th>\n",
       "      <th>dR_j1j2</th>\n",
       "      <th>dR_b1b2</th>\n",
       "      <th>res_mass</th>\n",
       "      <th>gen_weight</th>\n",
       "    </tr>\n",
       "    <tr>\n",
       "      <th>entry</th>\n",
       "      <th></th>\n",
       "      <th></th>\n",
       "      <th></th>\n",
       "      <th></th>\n",
       "      <th></th>\n",
       "      <th></th>\n",
       "      <th></th>\n",
       "      <th></th>\n",
       "      <th></th>\n",
       "      <th></th>\n",
       "      <th></th>\n",
       "      <th></th>\n",
       "      <th></th>\n",
       "      <th></th>\n",
       "      <th></th>\n",
       "      <th></th>\n",
       "      <th></th>\n",
       "      <th></th>\n",
       "      <th></th>\n",
       "      <th></th>\n",
       "      <th></th>\n",
       "    </tr>\n",
       "  </thead>\n",
       "  <tbody>\n",
       "    <tr>\n",
       "      <th>1</th>\n",
       "      <td>470.274078</td>\n",
       "      <td>69.387245</td>\n",
       "      <td>197.698395</td>\n",
       "      <td>281.912811</td>\n",
       "      <td>68.283752</td>\n",
       "      <td>56.930706</td>\n",
       "      <td>144.301208</td>\n",
       "      <td>308.775360</td>\n",
       "      <td>51.124199</td>\n",
       "      <td>106.675987</td>\n",
       "      <td>...</td>\n",
       "      <td>2.649336</td>\n",
       "      <td>3.062102</td>\n",
       "      <td>1.641656</td>\n",
       "      <td>0.637177</td>\n",
       "      <td>3.062136</td>\n",
       "      <td>2.843800</td>\n",
       "      <td>1.993926</td>\n",
       "      <td>0.566757</td>\n",
       "      <td>900</td>\n",
       "      <td>1</td>\n",
       "    </tr>\n",
       "    <tr>\n",
       "      <th>2</th>\n",
       "      <td>375.418915</td>\n",
       "      <td>71.730560</td>\n",
       "      <td>103.911789</td>\n",
       "      <td>280.417694</td>\n",
       "      <td>51.486023</td>\n",
       "      <td>31.303640</td>\n",
       "      <td>96.344688</td>\n",
       "      <td>296.791565</td>\n",
       "      <td>81.792267</td>\n",
       "      <td>68.787354</td>\n",
       "      <td>...</td>\n",
       "      <td>2.917649</td>\n",
       "      <td>2.422785</td>\n",
       "      <td>2.091218</td>\n",
       "      <td>0.467008</td>\n",
       "      <td>2.385195</td>\n",
       "      <td>1.885081</td>\n",
       "      <td>1.646023</td>\n",
       "      <td>0.526729</td>\n",
       "      <td>900</td>\n",
       "      <td>1</td>\n",
       "    </tr>\n",
       "    <tr>\n",
       "      <th>4</th>\n",
       "      <td>508.262238</td>\n",
       "      <td>139.129593</td>\n",
       "      <td>270.960388</td>\n",
       "      <td>462.437012</td>\n",
       "      <td>124.875504</td>\n",
       "      <td>78.482559</td>\n",
       "      <td>621.973267</td>\n",
       "      <td>604.346436</td>\n",
       "      <td>92.035095</td>\n",
       "      <td>181.038681</td>\n",
       "      <td>...</td>\n",
       "      <td>2.158625</td>\n",
       "      <td>2.594162</td>\n",
       "      <td>2.842100</td>\n",
       "      <td>1.852190</td>\n",
       "      <td>2.624687</td>\n",
       "      <td>2.122317</td>\n",
       "      <td>1.951550</td>\n",
       "      <td>1.898677</td>\n",
       "      <td>900</td>\n",
       "      <td>1</td>\n",
       "    </tr>\n",
       "    <tr>\n",
       "      <th>5</th>\n",
       "      <td>405.033081</td>\n",
       "      <td>20.930138</td>\n",
       "      <td>342.810577</td>\n",
       "      <td>67.703186</td>\n",
       "      <td>46.823524</td>\n",
       "      <td>42.669544</td>\n",
       "      <td>134.217072</td>\n",
       "      <td>292.647858</td>\n",
       "      <td>91.762306</td>\n",
       "      <td>94.201126</td>\n",
       "      <td>...</td>\n",
       "      <td>2.963690</td>\n",
       "      <td>2.970528</td>\n",
       "      <td>2.497824</td>\n",
       "      <td>0.837069</td>\n",
       "      <td>2.879490</td>\n",
       "      <td>2.689666</td>\n",
       "      <td>2.781203</td>\n",
       "      <td>0.831057</td>\n",
       "      <td>900</td>\n",
       "      <td>1</td>\n",
       "    </tr>\n",
       "    <tr>\n",
       "      <th>6</th>\n",
       "      <td>144.603714</td>\n",
       "      <td>69.748596</td>\n",
       "      <td>112.283226</td>\n",
       "      <td>33.257378</td>\n",
       "      <td>37.629398</td>\n",
       "      <td>35.917488</td>\n",
       "      <td>48.743980</td>\n",
       "      <td>137.288315</td>\n",
       "      <td>31.433678</td>\n",
       "      <td>45.852699</td>\n",
       "      <td>...</td>\n",
       "      <td>3.629981</td>\n",
       "      <td>3.933781</td>\n",
       "      <td>1.271678</td>\n",
       "      <td>0.724459</td>\n",
       "      <td>3.411037</td>\n",
       "      <td>3.674039</td>\n",
       "      <td>1.136367</td>\n",
       "      <td>0.692858</td>\n",
       "      <td>900</td>\n",
       "      <td>1</td>\n",
       "    </tr>\n",
       "  </tbody>\n",
       "</table>\n",
       "<p>5 rows × 23 columns</p>\n",
       "</div>"
      ],
      "text/plain": [
       "       Higgsbb_cand_pt  Zjet_cand_pt  leading_Hbb_pt  trailing_Hbb_pt  \\\n",
       "entry                                                                   \n",
       "1           470.274078     69.387245      197.698395       281.912811   \n",
       "2           375.418915     71.730560      103.911789       280.417694   \n",
       "4           508.262238    139.129593      270.960388       462.437012   \n",
       "5           405.033081     20.930138      342.810577        67.703186   \n",
       "6           144.603714     69.748596      112.283226        33.257378   \n",
       "\n",
       "       leading_jet_pt  trailing_jet_pt  Higgsbb_cand_mass  HiggsZZ_cand_mass  \\\n",
       "entry                                                                          \n",
       "1           68.283752        56.930706         144.301208         308.775360   \n",
       "2           51.486023        31.303640          96.344688         296.791565   \n",
       "4          124.875504        78.482559         621.973267         604.346436   \n",
       "5           46.823524        42.669544         134.217072         292.647858   \n",
       "6           37.629398        35.917488          48.743980         137.288315   \n",
       "\n",
       "       Zlep_cand_mass  Zjet_cand_mass  ...   dR_l1b1   dR_l1b2   dR_l2j1  \\\n",
       "entry                                  ...                                 \n",
       "1           51.124199      106.675987  ...  2.649336  3.062102  1.641656   \n",
       "2           81.792267       68.787354  ...  2.917649  2.422785  2.091218   \n",
       "4           92.035095      181.038681  ...  2.158625  2.594162  2.842100   \n",
       "5           91.762306       94.201126  ...  2.963690  2.970528  2.497824   \n",
       "6           31.433678       45.852699  ...  3.629981  3.933781  1.271678   \n",
       "\n",
       "        dR_l2j2   dR_l2b1   dR_l2b2   dR_j1j2   dR_b1b2  res_mass  gen_weight  \n",
       "entry                                                                          \n",
       "1      0.637177  3.062136  2.843800  1.993926  0.566757       900           1  \n",
       "2      0.467008  2.385195  1.885081  1.646023  0.526729       900           1  \n",
       "4      1.852190  2.624687  2.122317  1.951550  1.898677       900           1  \n",
       "5      0.837069  2.879490  2.689666  2.781203  0.831057       900           1  \n",
       "6      0.724459  3.411037  3.674039  1.136367  0.692858       900           1  \n",
       "\n",
       "[5 rows x 23 columns]"
      ]
     },
     "execution_count": 46,
     "metadata": {},
     "output_type": "execute_result"
    }
   ],
   "source": [
    "sig_df.head()"
   ]
  },
  {
   "cell_type": "code",
   "execution_count": 72,
   "metadata": {},
   "outputs": [],
   "source": [
    "np_arr_0 = sig_df[::2].to_numpy()\n",
    "np_arr_1 = sig_df[1::2].to_numpy()"
   ]
  },
  {
   "cell_type": "markdown",
   "metadata": {},
   "source": [
    "# Predict using numpy array"
   ]
  },
  {
   "cell_type": "code",
   "execution_count": 58,
   "metadata": {},
   "outputs": [
    {
     "data": {
      "text/plain": [
       "21"
      ]
     },
     "execution_count": 58,
     "metadata": {},
     "output_type": "execute_result"
    }
   ],
   "source": [
    "sig_df.columns\n",
    "sig_df.columns.get_loc('res_mass')"
   ]
  },
  {
   "cell_type": "code",
   "execution_count": 62,
   "metadata": {},
   "outputs": [],
   "source": [
    "def preprocess_mass(m, pipe):\n",
    "    #idx = set_0_fy.cont_feats.index('res_mass')\n",
    "    idx = sig_df.columns.get_loc('res_mass')\n",
    "    m -= pipe[0].mean_[idx]\n",
    "    m /= pipe[0].scale_[idx]\n",
    "    return m"
   ]
  },
  {
   "cell_type": "markdown",
   "metadata": {},
   "source": [
    "### Try using preprocessed mass from each ensemble pipes"
   ]
  },
  {
   "cell_type": "code",
   "execution_count": 63,
   "metadata": {},
   "outputs": [
    {
     "data": {
      "text/html": [
       "\n",
       "    <div>\n",
       "        <style>\n",
       "            /* Turns off some styling */\n",
       "            progress {\n",
       "                /* gets rid of default border in Firefox and Opera. */\n",
       "                border: none;\n",
       "                /* Needs to be in here for Safari polyfill so background images work as expected. */\n",
       "                background-size: auto;\n",
       "            }\n",
       "            .progress-bar-interrupted, .progress-bar-interrupted::-webkit-progress-bar {\n",
       "                background: #F44336;\n",
       "            }\n",
       "        </style>\n",
       "      <progress value='10' class='' max='10', style='width:300px; height:20px; vertical-align: middle;'></progress>\n",
       "      100.00% [10/10 00:00<00:00]\n",
       "    </div>\n",
       "    "
      ],
      "text/plain": [
       "<IPython.core.display.HTML object>"
      ]
     },
     "metadata": {},
     "output_type": "display_data"
    },
    {
     "data": {
      "text/html": [
       "\n",
       "    <div>\n",
       "        <style>\n",
       "            /* Turns off some styling */\n",
       "            progress {\n",
       "                /* gets rid of default border in Firefox and Opera. */\n",
       "                border: none;\n",
       "                /* Needs to be in here for Safari polyfill so background images work as expected. */\n",
       "                background-size: auto;\n",
       "            }\n",
       "            .progress-bar-interrupted, .progress-bar-interrupted::-webkit-progress-bar {\n",
       "                background: #F44336;\n",
       "            }\n",
       "        </style>\n",
       "      <progress value='10' class='' max='10', style='width:300px; height:20px; vertical-align: middle;'></progress>\n",
       "      100.00% [10/10 00:00<00:00]\n",
       "    </div>\n",
       "    "
      ],
      "text/plain": [
       "<IPython.core.display.HTML object>"
      ]
     },
     "metadata": {},
     "output_type": "display_data"
    }
   ],
   "source": [
    "mass_param_0 = ParametrisedPrediction(train_feats, ['res_mass'], [preprocess_mass(900,ensemble_0.input_pipe)])\n",
    "mass_param_1 = ParametrisedPrediction(train_feats, ['res_mass'], [preprocess_mass(900,ensemble_1.input_pipe)])\n",
    "# mass_param_0 = ParametrisedPrediction(train_feats, ['res_mass'], 900)\n",
    "# mass_param_1 = ParametrisedPrediction(train_feats, ['res_mass'], 900)\n",
    "pred_0 = ensemble_0.predict(np_arr_1, cbs=[mass_param_0])\n",
    "pred_1 = ensemble_1.predict(np_arr_0, cbs=[mass_param_1])\n",
    "# pred_0 = ensemble_0.predict(np_arr_1)\n",
    "# pred_1 = ensemble_1.predict(np_arr_0)\n",
    "pred = np.concatenate((pred_0, pred_1), axis=0)"
   ]
  },
  {
   "cell_type": "code",
   "execution_count": 64,
   "metadata": {
    "scrolled": true
   },
   "outputs": [
    {
     "data": {
      "image/png": "[encoded data removed]",
      "text/plain": [
       "<Figure size 432x288 with 1 Axes>"
      ]
     },
     "metadata": {
      "needs_background": "light"
     },
     "output_type": "display_data"
    }
   ],
   "source": [
    "bins = np.arange(0,1.1,0.05)\n",
    "\n",
    "hist,bins = np.histogram(pred,bins=bins)  \n",
    "plt.hist(pred, bins = bins, density=1) \n",
    "plt.show()"
   ]
  },
  {
   "cell_type": "markdown",
   "metadata": {},
   "source": [
    "### Try not using preprocessed mass"
   ]
  },
  {
   "cell_type": "code",
   "execution_count": 55,
   "metadata": {},
   "outputs": [
    {
     "data": {
      "text/html": [
       "\n",
       "    <div>\n",
       "        <style>\n",
       "            /* Turns off some styling */\n",
       "            progress {\n",
       "                /* gets rid of default border in Firefox and Opera. */\n",
       "                border: none;\n",
       "                /* Needs to be in here for Safari polyfill so background images work as expected. */\n",
       "                background-size: auto;\n",
       "            }\n",
       "            .progress-bar-interrupted, .progress-bar-interrupted::-webkit-progress-bar {\n",
       "                background: #F44336;\n",
       "            }\n",
       "        </style>\n",
       "      <progress value='10' class='' max='10', style='width:300px; height:20px; vertical-align: middle;'></progress>\n",
       "      100.00% [10/10 00:00<00:00]\n",
       "    </div>\n",
       "    "
      ],
      "text/plain": [
       "<IPython.core.display.HTML object>"
      ]
     },
     "metadata": {},
     "output_type": "display_data"
    },
    {
     "data": {
      "text/html": [
       "\n",
       "    <div>\n",
       "        <style>\n",
       "            /* Turns off some styling */\n",
       "            progress {\n",
       "                /* gets rid of default border in Firefox and Opera. */\n",
       "                border: none;\n",
       "                /* Needs to be in here for Safari polyfill so background images work as expected. */\n",
       "                background-size: auto;\n",
       "            }\n",
       "            .progress-bar-interrupted, .progress-bar-interrupted::-webkit-progress-bar {\n",
       "                background: #F44336;\n",
       "            }\n",
       "        </style>\n",
       "      <progress value='10' class='' max='10', style='width:300px; height:20px; vertical-align: middle;'></progress>\n",
       "      100.00% [10/10 00:00<00:00]\n",
       "    </div>\n",
       "    "
      ],
      "text/plain": [
       "<IPython.core.display.HTML object>"
      ]
     },
     "metadata": {},
     "output_type": "display_data"
    }
   ],
   "source": [
    "mass_param_0 = ParametrisedPrediction(train_feats, ['res_mass'], 900)\n",
    "mass_param_1 = ParametrisedPrediction(train_feats, ['res_mass'], 900)\n",
    "pred_0 = ensemble_0.predict(np_arr_1, cbs=[mass_param_0])\n",
    "pred_1 = ensemble_1.predict(np_arr_0, cbs=[mass_param_1])\n",
    "# pred_0 = ensemble_0.predict(np_arr_1)\n",
    "# pred_1 = ensemble_1.predict(np_arr_0)\n",
    "pred = np.concatenate((pred_0, pred_1), axis=0)"
   ]
  },
  {
   "cell_type": "code",
   "execution_count": 56,
   "metadata": {},
   "outputs": [
    {
     "data": {
      "image/png": "[encoded data removed]",
      "text/plain": [
       "<Figure size 432x288 with 1 Axes>"
      ]
     },
     "metadata": {
      "needs_background": "light"
     },
     "output_type": "display_data"
    }
   ],
   "source": [
    "bins = np.arange(0,1.1,0.05)\n",
    "\n",
    "hist,bins = np.histogram(pred,bins=bins)  \n",
    "plt.hist(pred, bins = bins, density=1) \n",
    "plt.show()"
   ]
  },
  {
   "cell_type": "markdown",
   "metadata": {},
   "source": [
    "### Try using transformed input"
   ]
  },
  {
   "cell_type": "code",
   "execution_count": 74,
   "metadata": {},
   "outputs": [],
   "source": [
    "with open(PATH/\"input_pipe_0_untrained.pkl\", 'rb') as pickle_file:\n",
    "    input_pipe_0 = pickle.load(pickle_file)\n",
    "\n",
    "with open(PATH/\"input_pipe_1_untrained.pkl\", 'rb') as pickle_file:\n",
    "    input_pipe_1 = pickle.load(pickle_file)\n",
    "    \n",
    "transformed_input_0 = np.hstack((input_pipe_0.inverse_transform(np_arr_0[:,:len(cont_feats)]), np_arr_0[:,len(cont_feats):]))\n",
    "transformed_input_1 = np.hstack((input_pipe_1.inverse_transform(np_arr_0[:,:len(cont_feats)]), np_arr_0[:,len(cont_feats):]))"
   ]
  },
  {
   "cell_type": "code",
   "execution_count": 79,
   "metadata": {},
   "outputs": [
    {
     "data": {
      "text/html": [
       "\n",
       "    <div>\n",
       "        <style>\n",
       "            /* Turns off some styling */\n",
       "            progress {\n",
       "                /* gets rid of default border in Firefox and Opera. */\n",
       "                border: none;\n",
       "                /* Needs to be in here for Safari polyfill so background images work as expected. */\n",
       "                background-size: auto;\n",
       "            }\n",
       "            .progress-bar-interrupted, .progress-bar-interrupted::-webkit-progress-bar {\n",
       "                background: #F44336;\n",
       "            }\n",
       "        </style>\n",
       "      <progress value='10' class='' max='10', style='width:300px; height:20px; vertical-align: middle;'></progress>\n",
       "      100.00% [10/10 00:00<00:00]\n",
       "    </div>\n",
       "    "
      ],
      "text/plain": [
       "<IPython.core.display.HTML object>"
      ]
     },
     "metadata": {},
     "output_type": "display_data"
    },
    {
     "data": {
      "text/html": [
       "\n",
       "    <div>\n",
       "        <style>\n",
       "            /* Turns off some styling */\n",
       "            progress {\n",
       "                /* gets rid of default border in Firefox and Opera. */\n",
       "                border: none;\n",
       "                /* Needs to be in here for Safari polyfill so background images work as expected. */\n",
       "                background-size: auto;\n",
       "            }\n",
       "            .progress-bar-interrupted, .progress-bar-interrupted::-webkit-progress-bar {\n",
       "                background: #F44336;\n",
       "            }\n",
       "        </style>\n",
       "      <progress value='10' class='' max='10', style='width:300px; height:20px; vertical-align: middle;'></progress>\n",
       "      100.00% [10/10 00:00<00:00]\n",
       "    </div>\n",
       "    "
      ],
      "text/plain": [
       "<IPython.core.display.HTML object>"
      ]
     },
     "metadata": {},
     "output_type": "display_data"
    }
   ],
   "source": [
    "pred_0 = ensemble_0.predict(transformed_input_1)\n",
    "pred_1 = ensemble_1.predict(transformed_input_0)\n",
    "pred = np.concatenate((pred_0, pred_1), axis=0)"
   ]
  },
  {
   "cell_type": "code",
   "execution_count": 80,
   "metadata": {},
   "outputs": [
    {
     "data": {
      "image/png": "[encoded data removed]",
      "text/plain": [
       "<Figure size 432x288 with 1 Axes>"
      ]
     },
     "metadata": {
      "needs_background": "light"
     },
     "output_type": "display_data"
    }
   ],
   "source": [
    "bins = np.arange(0,1.1,0.05)\n",
    "\n",
    "hist,bins = np.histogram(pred,bins=bins)  \n",
    "plt.hist(pred, bins = bins, density=1) \n",
    "plt.show()"
   ]
  }
 ],
 "metadata": {
  "kernelspec": {
   "display_name": "Python 3",
   "language": "python",
   "name": "python3"
  },
  "language_info": {
   "codemirror_mode": {
    "name": "ipython",
    "version": 3
   },
   "file_extension": ".py",
   "mimetype": "text/x-python",
   "name": "python",
   "nbconvert_exporter": "python",
   "pygments_lexer": "ipython3",
   "version": "3.8.5"
  }
 },
 "nbformat": 4,
 "nbformat_minor": 4
}
