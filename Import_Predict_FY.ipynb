{
 "cells": [
  {
   "cell_type": "code",
   "execution_count": 1,
   "metadata": {},
   "outputs": [],
   "source": [
    "%matplotlib inline\n",
    "%reload_ext autoreload\n",
    "%autoreload 2\n",
    "import sys\n",
    "sys.path.append('../../')\n",
    "from modules.data_import import *\n",
    "from modules.basics import *\n",
    "import copy\n",
    "from typing import Callable, Tuple\n",
    "import json\n",
    "from fastprogress import progress_bar, master_bar\n",
    "from sklearn.pipeline import Pipeline\n",
    "\n",
    "from lumin.nn.callbacks.data_callbacks import ParametrisedPrediction"
   ]
  },
  {
   "cell_type": "markdown",
   "metadata": {},
   "source": [
    "# Import models and data"
   ]
  },
  {
   "cell_type": "code",
   "execution_count": 2,
   "metadata": {},
   "outputs": [],
   "source": [
    "run_name = '11-24-2021'"
   ]
  },
  {
   "cell_type": "code",
   "execution_count": 6,
   "metadata": {},
   "outputs": [
    {
     "data": {
      "text/html": [
       "\n",
       "    <div>\n",
       "        <style>\n",
       "            /* Turns off some styling */\n",
       "            progress {\n",
       "                /* gets rid of default border in Firefox and Opera. */\n",
       "                border: none;\n",
       "                /* Needs to be in here for Safari polyfill so background images work as expected. */\n",
       "                background-size: auto;\n",
       "            }\n",
       "            .progress-bar-interrupted, .progress-bar-interrupted::-webkit-progress-bar {\n",
       "                background: #F44336;\n",
       "            }\n",
       "        </style>\n",
       "      <progress value='10' class='' max='10', style='width:300px; height:20px; vertical-align: middle;'></progress>\n",
       "      100.00% [10/10 00:00<00:00]\n",
       "    </div>\n",
       "    "
      ],
      "text/plain": [
       "<IPython.core.display.HTML object>"
      ]
     },
     "metadata": {},
     "output_type": "display_data"
    },
    {
     "data": {
      "text/html": [
       "\n",
       "    <div>\n",
       "        <style>\n",
       "            /* Turns off some styling */\n",
       "            progress {\n",
       "                /* gets rid of default border in Firefox and Opera. */\n",
       "                border: none;\n",
       "                /* Needs to be in here for Safari polyfill so background images work as expected. */\n",
       "                background-size: auto;\n",
       "            }\n",
       "            .progress-bar-interrupted, .progress-bar-interrupted::-webkit-progress-bar {\n",
       "                background: #F44336;\n",
       "            }\n",
       "        </style>\n",
       "      <progress value='10' class='' max='10', style='width:300px; height:20px; vertical-align: middle;'></progress>\n",
       "      100.00% [10/10 00:00<00:00]\n",
       "    </div>\n",
       "    "
      ],
      "text/plain": [
       "<IPython.core.display.HTML object>"
      ]
     },
     "metadata": {},
     "output_type": "display_data"
    }
   ],
   "source": [
    "ensemble_0 = Ensemble.from_save(f'weights/selected_set_0_{run_name}')\n",
    "ensemble_1 = Ensemble.from_save(f'weights/selected_set_1_{run_name}')"
   ]
  },
  {
   "cell_type": "code",
   "execution_count": 7,
   "metadata": {},
   "outputs": [],
   "source": [
    "PATH = Path('../../../MC/')"
   ]
  },
  {
   "cell_type": "code",
   "execution_count": 8,
   "metadata": {},
   "outputs": [],
   "source": [
    "set_0_fy = FoldYielder(PATH/'test_0_untrained.hdf5', input_pipe=PATH/'input_pipe_0_untrained.pkl')\n",
    "set_1_fy = FoldYielder(PATH/'test_1_untrained.hdf5', input_pipe=PATH/'input_pipe_1_untrained.pkl')"
   ]
  },
  {
   "cell_type": "markdown",
   "metadata": {},
   "source": [
    "# Apply models"
   ]
  },
  {
   "cell_type": "code",
   "execution_count": 9,
   "metadata": {},
   "outputs": [],
   "source": [
    "def lookup_mass(m, pipe):\n",
    "    idx = train_feats.index('res_mass')\n",
    "    m *= pipe[0].scale_[idx]\n",
    "    m += pipe[0].mean_[idx]\n",
    "    return int(round(2*m,-1)/2)"
   ]
  },
  {
   "cell_type": "code",
   "execution_count": 10,
   "metadata": {},
   "outputs": [],
   "source": [
    "def preprocess_mass(m, pipe):\n",
    "    idx = set_0_fy.cont_feats.index('res_mass')\n",
    "    m -= pipe[0].mean_[idx]\n",
    "    m /= pipe[0].scale_[idx]\n",
    "    return m"
   ]
  },
  {
   "cell_type": "code",
   "execution_count": 11,
   "metadata": {
    "scrolled": false
   },
   "outputs": [],
   "source": [
    "masses = sorted([int(m) for m in set(set_0_fy.get_column('res_mass_orig'))])"
   ]
  },
  {
   "cell_type": "code",
   "execution_count": 12,
   "metadata": {},
   "outputs": [
    {
     "data": {
      "text/plain": [
       "[900]"
      ]
     },
     "execution_count": 12,
     "metadata": {},
     "output_type": "execute_result"
    }
   ],
   "source": [
    "masses"
   ]
  },
  {
   "cell_type": "code",
   "execution_count": 13,
   "metadata": {},
   "outputs": [],
   "source": [
    "# spins = [0,1]; spins"
   ]
  },
  {
   "cell_type": "code",
   "execution_count": 14,
   "metadata": {},
   "outputs": [
    {
     "data": {
      "text/plain": [
       "['Higgsbb_cand_pt',\n",
       " 'Zjet_cand_pt',\n",
       " 'leading_Hbb_pt',\n",
       " 'trailing_Hbb_pt',\n",
       " 'leading_jet_pt',\n",
       " 'trailing_jet_pt',\n",
       " 'Higgsbb_cand_mass',\n",
       " 'HiggsZZ_cand_mass',\n",
       " 'Zlep_cand_mass',\n",
       " 'Zjet_cand_mass',\n",
       " 'Zlep_cand_pt',\n",
       " 'dR_l1j1',\n",
       " 'dR_l1j2',\n",
       " 'dR_l1b1',\n",
       " 'dR_l1b2',\n",
       " 'dR_l2j1',\n",
       " 'dR_l2j2',\n",
       " 'dR_l2b1',\n",
       " 'dR_l2b2',\n",
       " 'dR_j1j2',\n",
       " 'dR_b1b2',\n",
       " 'res_mass']"
      ]
     },
     "execution_count": 14,
     "metadata": {},
     "output_type": "execute_result"
    }
   ],
   "source": [
    "train_feats = set_0_fy.cont_feats+set_0_fy.cat_feats; train_feats"
   ]
  },
  {
   "cell_type": "code",
   "execution_count": 15,
   "metadata": {},
   "outputs": [
    {
     "data": {
      "text/html": [],
      "text/plain": [
       "<IPython.core.display.HTML object>"
      ]
     },
     "metadata": {},
     "output_type": "display_data"
    },
    {
     "data": {
      "text/html": [],
      "text/plain": [
       "<IPython.core.display.HTML object>"
      ]
     },
     "metadata": {},
     "output_type": "display_data"
    },
    {
     "data": {
      "text/html": [],
      "text/plain": [
       "<IPython.core.display.HTML object>"
      ]
     },
     "metadata": {},
     "output_type": "display_data"
    }
   ],
   "source": [
    "\"\"\"\n",
    "Only run this if you are predicting on a folder yielder for the first time\n",
    "\"\"\"\n",
    "\n",
    "mb = master_bar(masses)\n",
    "for m in mb:\n",
    "    for e, fy_s, pipe in ((ensemble_0, set_1_fy, set_0_fy.input_pipe),\n",
    "                            (ensemble_1, set_0_fy, set_1_fy.input_pipe)):\n",
    "        mass_param = ParametrisedPrediction(train_feats, ['res_mass'], [preprocess_mass(m,pipe)])\n",
    "        e.predict(fy_s,cbs=[mass_param],verbose=False,\n",
    "                    pred_name=f'pred_mass_{m}')"
   ]
  },
  {
   "cell_type": "markdown",
   "metadata": {},
   "source": [
    "# Check results"
   ]
  },
  {
   "cell_type": "markdown",
   "metadata": {},
   "source": [
    "## Get dataframes"
   ]
  },
  {
   "cell_type": "code",
   "execution_count": 16,
   "metadata": {},
   "outputs": [
    {
     "data": {
      "text/plain": [
       "FoldYielder with 10 folds, containing ['gen_strat_key', 'inputs', 'pred_mass_900', 'res_mass_orig', 'targets', 'weights']"
      ]
     },
     "execution_count": 16,
     "metadata": {},
     "output_type": "execute_result"
    }
   ],
   "source": [
    "set_0_fy"
   ]
  },
  {
   "cell_type": "code",
   "execution_count": 17,
   "metadata": {},
   "outputs": [],
   "source": [
    "# def load_df(fy:FoldYielder, mass:float, spin:str) -> pd.DataFrame:\n",
    "#     df = fy.get_df(pred_name=f'pred_mass_{mass}_{spin}', inc_inputs=True, verbose=False)\n",
    "#     for c in df.year.unique(): df.loc[df.year == c, 'year'] = id2year[c]\n",
    "#     df['gen_sample']    = fy.get_column('gen_sample')\n",
    "#     df['channel']       = fy.get_column('channel')\n",
    "#     df['jet_cat']       = fy.get_column('jet_cat')\n",
    "#     df['res_mass_orig'] = fy.get_column('res_mass_orig')\n",
    "#     df = df[(df.gen_target==0)|((df.res_mass_orig==mass)&(df.spin==spin2id[spin]))]\n",
    "#     for c in set(df.gen_sample): df.loc[df.gen_sample == c, 'gen_sample'] = id2sample[c]\n",
    "#     for c in set(df['channel']): df.loc[(df.channel == c) & (df.gen_target == 1), 'gen_sample'] = df.loc[(df.channel == c) & (df.gen_target == 1), 'gen_sample']+r'$\\rightarrow$'+id2channel[c]\n",
    "#     for c in set(df['jet_cat']): df.loc[(df.jet_cat == c), 'jet_cat'] = id2jet[c]\n",
    "#    return df\n",
    "\n",
    "def load_df(fy:FoldYielder, mass:float) -> pd.DataFrame:\n",
    "    df = fy.get_df(pred_name=f'pred_mass_{mass}', inc_inputs=True, verbose=False)\n",
    "    df['res_mass_orig'] = fy.get_column('res_mass_orig')\n",
    "    df = df[(df.gen_target==0)|(df.res_mass_orig==mass)]\n",
    "    return df"
   ]
  },
  {
   "cell_type": "code",
   "execution_count": 18,
   "metadata": {},
   "outputs": [
    {
     "data": {
      "text/html": [
       "<div>\n",
       "<style scoped>\n",
       "    .dataframe tbody tr th:only-of-type {\n",
       "        vertical-align: middle;\n",
       "    }\n",
       "\n",
       "    .dataframe tbody tr th {\n",
       "        vertical-align: top;\n",
       "    }\n",
       "\n",
       "    .dataframe thead th {\n",
       "        text-align: right;\n",
       "    }\n",
       "</style>\n",
       "<table border=\"1\" class=\"dataframe\">\n",
       "  <thead>\n",
       "    <tr style=\"text-align: right;\">\n",
       "      <th></th>\n",
       "      <th>Higgsbb_cand_pt</th>\n",
       "      <th>Zjet_cand_pt</th>\n",
       "      <th>leading_Hbb_pt</th>\n",
       "      <th>trailing_Hbb_pt</th>\n",
       "      <th>leading_jet_pt</th>\n",
       "      <th>trailing_jet_pt</th>\n",
       "      <th>Higgsbb_cand_mass</th>\n",
       "      <th>HiggsZZ_cand_mass</th>\n",
       "      <th>Zlep_cand_mass</th>\n",
       "      <th>Zjet_cand_mass</th>\n",
       "      <th>...</th>\n",
       "      <th>dR_l2j2</th>\n",
       "      <th>dR_l2b1</th>\n",
       "      <th>dR_l2b2</th>\n",
       "      <th>dR_j1j2</th>\n",
       "      <th>dR_b1b2</th>\n",
       "      <th>res_mass</th>\n",
       "      <th>gen_target</th>\n",
       "      <th>gen_weight</th>\n",
       "      <th>pred</th>\n",
       "      <th>res_mass_orig</th>\n",
       "    </tr>\n",
       "  </thead>\n",
       "  <tbody>\n",
       "    <tr>\n",
       "      <th>0</th>\n",
       "      <td>-0.799302</td>\n",
       "      <td>0.444516</td>\n",
       "      <td>-0.491452</td>\n",
       "      <td>-0.698067</td>\n",
       "      <td>0.460114</td>\n",
       "      <td>-0.364263</td>\n",
       "      <td>-0.193596</td>\n",
       "      <td>0.473499</td>\n",
       "      <td>-1.426966</td>\n",
       "      <td>0.972308</td>\n",
       "      <td>...</td>\n",
       "      <td>0.957201</td>\n",
       "      <td>0.060342</td>\n",
       "      <td>-0.413806</td>\n",
       "      <td>0.789181</td>\n",
       "      <td>0.801648</td>\n",
       "      <td>0.0</td>\n",
       "      <td>1</td>\n",
       "      <td>1.0</td>\n",
       "      <td>0.268040</td>\n",
       "      <td>900.0</td>\n",
       "    </tr>\n",
       "    <tr>\n",
       "      <th>1</th>\n",
       "      <td>1.133852</td>\n",
       "      <td>0.842356</td>\n",
       "      <td>1.297197</td>\n",
       "      <td>0.014256</td>\n",
       "      <td>1.424769</td>\n",
       "      <td>-0.069209</td>\n",
       "      <td>-0.096307</td>\n",
       "      <td>0.862394</td>\n",
       "      <td>0.530684</td>\n",
       "      <td>0.517855</td>\n",
       "      <td>...</td>\n",
       "      <td>-0.433928</td>\n",
       "      <td>0.651916</td>\n",
       "      <td>0.077690</td>\n",
       "      <td>0.540493</td>\n",
       "      <td>-1.026678</td>\n",
       "      <td>0.0</td>\n",
       "      <td>1</td>\n",
       "      <td>1.0</td>\n",
       "      <td>0.960301</td>\n",
       "      <td>900.0</td>\n",
       "    </tr>\n",
       "    <tr>\n",
       "      <th>2</th>\n",
       "      <td>2.025697</td>\n",
       "      <td>3.450021</td>\n",
       "      <td>1.968419</td>\n",
       "      <td>0.582756</td>\n",
       "      <td>3.200379</td>\n",
       "      <td>1.447620</td>\n",
       "      <td>-0.168092</td>\n",
       "      <td>0.369412</td>\n",
       "      <td>0.361125</td>\n",
       "      <td>0.794377</td>\n",
       "      <td>...</td>\n",
       "      <td>0.372901</td>\n",
       "      <td>0.457152</td>\n",
       "      <td>0.020512</td>\n",
       "      <td>-0.946508</td>\n",
       "      <td>-1.247673</td>\n",
       "      <td>0.0</td>\n",
       "      <td>1</td>\n",
       "      <td>1.0</td>\n",
       "      <td>0.538847</td>\n",
       "      <td>900.0</td>\n",
       "    </tr>\n",
       "    <tr>\n",
       "      <th>3</th>\n",
       "      <td>-0.726026</td>\n",
       "      <td>0.894948</td>\n",
       "      <td>-0.386448</td>\n",
       "      <td>-0.624847</td>\n",
       "      <td>0.171485</td>\n",
       "      <td>1.836351</td>\n",
       "      <td>-0.196546</td>\n",
       "      <td>-0.781057</td>\n",
       "      <td>0.037243</td>\n",
       "      <td>-0.400042</td>\n",
       "      <td>...</td>\n",
       "      <td>-1.729078</td>\n",
       "      <td>-0.717032</td>\n",
       "      <td>0.127616</td>\n",
       "      <td>-1.385367</td>\n",
       "      <td>0.478574</td>\n",
       "      <td>0.0</td>\n",
       "      <td>1</td>\n",
       "      <td>1.0</td>\n",
       "      <td>0.922499</td>\n",
       "      <td>900.0</td>\n",
       "    </tr>\n",
       "    <tr>\n",
       "      <th>4</th>\n",
       "      <td>0.655304</td>\n",
       "      <td>-0.068347</td>\n",
       "      <td>0.097153</td>\n",
       "      <td>0.650882</td>\n",
       "      <td>-0.136339</td>\n",
       "      <td>0.924294</td>\n",
       "      <td>-0.193856</td>\n",
       "      <td>-0.622546</td>\n",
       "      <td>-1.748790</td>\n",
       "      <td>-0.113522</td>\n",
       "      <td>...</td>\n",
       "      <td>0.461076</td>\n",
       "      <td>0.475478</td>\n",
       "      <td>1.142820</td>\n",
       "      <td>-0.371573</td>\n",
       "      <td>-0.981087</td>\n",
       "      <td>0.0</td>\n",
       "      <td>1</td>\n",
       "      <td>1.0</td>\n",
       "      <td>0.999486</td>\n",
       "      <td>900.0</td>\n",
       "    </tr>\n",
       "  </tbody>\n",
       "</table>\n",
       "<p>5 rows × 26 columns</p>\n",
       "</div>"
      ],
      "text/plain": [
       "   Higgsbb_cand_pt  Zjet_cand_pt  leading_Hbb_pt  trailing_Hbb_pt  \\\n",
       "0        -0.799302      0.444516       -0.491452        -0.698067   \n",
       "1         1.133852      0.842356        1.297197         0.014256   \n",
       "2         2.025697      3.450021        1.968419         0.582756   \n",
       "3        -0.726026      0.894948       -0.386448        -0.624847   \n",
       "4         0.655304     -0.068347        0.097153         0.650882   \n",
       "\n",
       "   leading_jet_pt  trailing_jet_pt  Higgsbb_cand_mass  HiggsZZ_cand_mass  \\\n",
       "0        0.460114        -0.364263          -0.193596           0.473499   \n",
       "1        1.424769        -0.069209          -0.096307           0.862394   \n",
       "2        3.200379         1.447620          -0.168092           0.369412   \n",
       "3        0.171485         1.836351          -0.196546          -0.781057   \n",
       "4       -0.136339         0.924294          -0.193856          -0.622546   \n",
       "\n",
       "   Zlep_cand_mass  Zjet_cand_mass  ...   dR_l2j2   dR_l2b1   dR_l2b2  \\\n",
       "0       -1.426966        0.972308  ...  0.957201  0.060342 -0.413806   \n",
       "1        0.530684        0.517855  ... -0.433928  0.651916  0.077690   \n",
       "2        0.361125        0.794377  ...  0.372901  0.457152  0.020512   \n",
       "3        0.037243       -0.400042  ... -1.729078 -0.717032  0.127616   \n",
       "4       -1.748790       -0.113522  ...  0.461076  0.475478  1.142820   \n",
       "\n",
       "    dR_j1j2   dR_b1b2  res_mass  gen_target  gen_weight      pred  \\\n",
       "0  0.789181  0.801648       0.0           1         1.0  0.268040   \n",
       "1  0.540493 -1.026678       0.0           1         1.0  0.960301   \n",
       "2 -0.946508 -1.247673       0.0           1         1.0  0.538847   \n",
       "3 -1.385367  0.478574       0.0           1         1.0  0.922499   \n",
       "4 -0.371573 -0.981087       0.0           1         1.0  0.999486   \n",
       "\n",
       "   res_mass_orig  \n",
       "0          900.0  \n",
       "1          900.0  \n",
       "2          900.0  \n",
       "3          900.0  \n",
       "4          900.0  \n",
       "\n",
       "[5 rows x 26 columns]"
      ]
     },
     "execution_count": 18,
     "metadata": {},
     "output_type": "execute_result"
    }
   ],
   "source": [
    "df = load_df(set_0_fy, 900).append(load_df(set_1_fy, 900), ignore_index=True); df.head()"
   ]
  },
  {
   "cell_type": "markdown",
   "metadata": {},
   "source": [
    "## Unity-weighted plots"
   ]
  },
  {
   "cell_type": "markdown",
   "metadata": {},
   "source": [
    "### Overall"
   ]
  },
  {
   "cell_type": "code",
   "execution_count": 19,
   "metadata": {},
   "outputs": [],
   "source": [
    "import sklearn.metrics as metrics\n",
    "import matplotlib.pyplot as plt\n",
    "import numpy as np\n",
    "bins = 20\n",
    "\n",
    "# make class prediction plot\n",
    "def make_cp(df):\n",
    "    plt.figure()\n",
    "    plt.hist(df.loc[df.gen_target == 1].pred, bins, stacked=True, density = True, log = False, alpha = 0.5, label='signal')\n",
    "    plt.hist(df.loc[df.gen_target == 0].pred, bins, stacked=True, density = True, log = False, alpha = 0.5, label='background')\n",
    "    plt.legend(loc='best')\n",
    "    plt.xlabel('Class Prediction')\n",
    "    plt.ylabel('Frequency')\n",
    "    plt.show()\n",
    "\n",
    "# make roc plot\n",
    "def make_roc(fpr, tpr, roc_auc):\n",
    "    plt.title('Receiver Operating Characteristic')\n",
    "    plt.plot(fpr, tpr, 'b', label = 'AUC = %0.2f' % roc_auc)\n",
    "    plt.legend(loc = 'lower right')\n",
    "    plt.plot([0, 1], [0, 1],'r--')\n",
    "    plt.xlim([0, 1])\n",
    "    plt.ylim([0, 1])\n",
    "    plt.ylabel('True Positive Rate')\n",
    "    plt.xlabel('False Positive Rate')\n",
    "    plt.show()"
   ]
  },
  {
   "cell_type": "code",
   "execution_count": 20,
   "metadata": {},
   "outputs": [
    {
     "name": "stdout",
     "output_type": "stream",
     "text": [
      "mass:  900\n"
     ]
    },
    {
     "data": {
      "image/png": "[encoded data removed]",
      "text/plain": [
       "<Figure size 432x288 with 1 Axes>"
      ]
     },
     "metadata": {
      "needs_background": "light"
     },
     "output_type": "display_data"
    },
    {
     "data": {
      "image/png": "[encoded data removed]",
      "text/plain": [
       "<Figure size 432x288 with 1 Axes>"
      ]
     },
     "metadata": {
      "needs_background": "light"
     },
     "output_type": "display_data"
    }
   ],
   "source": [
    "roc_scores = []\n",
    "for mass in masses:\n",
    "    df = load_df(set_0_fy, mass).append(load_df(set_1_fy, mass), ignore_index=True)\n",
    "    print('mass: ', mass)\n",
    "    make_cp(df)\n",
    "    fpr, tpr, threshold = metrics.roc_curve(df.gen_target, df.pred)\n",
    "    roc_auc = metrics.auc(fpr, tpr)\n",
    "    roc_scores.append(roc_auc)\n",
    "    make_roc(fpr, tpr, roc_auc)"
   ]
  },
  {
   "cell_type": "code",
   "execution_count": 18,
   "metadata": {},
   "outputs": [
    {
     "data": {
      "text/plain": [
       "(250.0, 1010.0, 0.85, 1.0)"
      ]
     },
     "execution_count": 18,
     "metadata": {},
     "output_type": "execute_result"
    },
    {
     "data": {
      "image/png": "[encoded data removed]",
      "text/plain": [
       "<Figure size 432x288 with 1 Axes>"
      ]
     },
     "metadata": {
      "needs_background": "light"
     },
     "output_type": "display_data"
    }
   ],
   "source": [
    "\"\"\"\n",
    "Compare singley-trained Binary Classification network to Parameterized network\n",
    "\"\"\"\n",
    "mass = [260, 270, 300, 350, 400, 450, 500, 550, 600, 650, 750, 800, 900, 1000]\n",
    "SNN_AUC = [0.93, 0.89, 0.88, 0.90, 0.91, 0.92, 0.93, 0.95, 0.96, 0.97, 0.97, 0.98, 0.98, 0.98]\n",
    "\n",
    "single, = plt.plot(mass, SNN_AUC, 'b', Label='Single DNN')\n",
    "parameterized, = plt.plot(masses, roc_scores, 'r', Label='Parameterized DNN')\n",
    "\n",
    "plt.legend(handles=[single, parameterized])\n",
    "plt.xlabel('Resonant Mass')\n",
    "plt.ylabel('AUC Score')\n",
    "plt.axis([250, 1010, 0.85, 1])"
   ]
  },
  {
   "cell_type": "markdown",
   "metadata": {},
   "source": [
    "### By channel"
   ]
  },
  {
   "cell_type": "code",
   "execution_count": null,
   "metadata": {},
   "outputs": [],
   "source": [
    "print('Tau Tau')\n",
    "plot_binary_class_pred(df[df.channel==0], wgt_name='gen_weight')\n",
    "print('Mu Tau')\n",
    "plot_binary_class_pred(df[df.channel==1], wgt_name='gen_weight')\n",
    "print('E Tau')\n",
    "plot_binary_class_pred(df[df.channel==2], wgt_name='gen_weight')"
   ]
  },
  {
   "cell_type": "markdown",
   "metadata": {},
   "source": [
    "### By year"
   ]
  },
  {
   "cell_type": "code",
   "execution_count": null,
   "metadata": {},
   "outputs": [],
   "source": [
    "for y in df.year.unique():\n",
    "    print(y)\n",
    "    plot_binary_class_pred(df[df.year==y], wgt_name='gen_weight')"
   ]
  },
  {
   "cell_type": "markdown",
   "metadata": {},
   "source": [
    "### By jet category"
   ]
  },
  {
   "cell_type": "markdown",
   "metadata": {},
   "source": [
    "#### Tau Tau"
   ]
  },
  {
   "cell_type": "code",
   "execution_count": null,
   "metadata": {
    "scrolled": false
   },
   "outputs": [],
   "source": [
    "channel_df = df[df.channel==0]\n",
    "for c in sorted(df.jet_cat.unique()):\n",
    "    print(c)\n",
    "    plot_binary_class_pred(channel_df[channel_df.jet_cat==c], wgt_name='gen_weight')"
   ]
  },
  {
   "cell_type": "markdown",
   "metadata": {},
   "source": [
    "#### Mu Tau"
   ]
  },
  {
   "cell_type": "code",
   "execution_count": null,
   "metadata": {
    "scrolled": false
   },
   "outputs": [],
   "source": [
    "channel_df = df[df.channel==1]\n",
    "for c in sorted(df.jet_cat.unique()):\n",
    "    print(c)\n",
    "    plot_binary_class_pred(channel_df[channel_df.jet_cat==c], wgt_name='gen_weight')"
   ]
  },
  {
   "cell_type": "markdown",
   "metadata": {},
   "source": [
    "#### E Tau"
   ]
  },
  {
   "cell_type": "code",
   "execution_count": null,
   "metadata": {
    "scrolled": false
   },
   "outputs": [],
   "source": [
    "channel_df = df[df.channel==2]\n",
    "for c in sorted(df.jet_cat.unique()):\n",
    "    print(c)\n",
    "    plot_binary_class_pred(channel_df[channel_df.jet_cat==c], wgt_name='gen_weight')"
   ]
  },
  {
   "cell_type": "markdown",
   "metadata": {},
   "source": [
    "## Plot signal region"
   ]
  },
  {
   "cell_type": "code",
   "execution_count": null,
   "metadata": {},
   "outputs": [],
   "source": [
    "sorted(df.jet_cat.unique())"
   ]
  },
  {
   "cell_type": "code",
   "execution_count": null,
   "metadata": {},
   "outputs": [],
   "source": [
    "use_cats = ['2j1b VBF', '2j1bR noVBF', '2j2LbB noVBF', '2j2bR noVBF']"
   ]
  },
  {
   "cell_type": "code",
   "execution_count": null,
   "metadata": {},
   "outputs": [],
   "source": [
    "def get_max_unc(year:int, channel:int, jet_cat:str) -> float:\n",
    "    if jet_cat == '2j1b VBF': return 0.1\n",
    "    if jet_cat == '2j2LbB noVBF': return 0.3\n",
    "    return 0.05"
   ]
  },
  {
   "cell_type": "code",
   "execution_count": null,
   "metadata": {},
   "outputs": [],
   "source": [
    "def plot_channel_category_dists(df:pd.DataFrame, unc_func:Callable[[int,str],float]=get_max_unc,\n",
    "                                settings:PlotSettings=PlotSettings(), density:bool=False,\n",
    "                                bins:Dict[str,List[float]]=None) -> Dict[str,List[float]]:\n",
    "    if bins is None: bins = {}\n",
    "    for y in df.year.unique():\n",
    "        for c in df['channel'].unique():\n",
    "            for j in use_cats:\n",
    "                if f'{y}_{c}_{j}' not in bins:\n",
    "                    max_unc = unc_func(y, c, j)\n",
    "                    tmp_df = df[(df.year == y)&(df.channel == c)&(df.jet_cat == j)]\n",
    "                    if len(tmp_df) > 0:\n",
    "                        edges = bin_binary_class_pred(tmp_df, max_unc, compact_samples=True, verbose=True)\n",
    "                        bins[f'{y}_{c}_{j}'] = list(edges)\n",
    "                        tmp_settings = copy.copy(settings)\n",
    "                        tmp_settings.title += f' {y:.0f} {j}'\n",
    "                        plot_sample_pred(tmp_df, bins=bins[f'{y}_{c}_{j}'], density=density,\n",
    "                                         settings=tmp_settings)\n",
    "                    else:\n",
    "                        print(f'{y} {c} {j} no events')\n",
    "    return bins"
   ]
  },
  {
   "cell_type": "code",
   "execution_count": null,
   "metadata": {
    "scrolled": false
   },
   "outputs": [],
   "source": [
    "bins = plot_channel_category_dists(df, unc_func=get_max_unc, settings=plot_settings, density=False)"
   ]
  },
  {
   "cell_type": "markdown",
   "metadata": {},
   "source": [
    "# AMS"
   ]
  },
  {
   "cell_type": "code",
   "execution_count": null,
   "metadata": {},
   "outputs": [],
   "source": [
    "def bin_channel_category_dists(df:pd.DataFrame, unc_func:Callable[[int,str],float]=get_max_unc) -> Dict[str,List[float]]:\n",
    "    bins = {}\n",
    "    for y in df.year.unique():\n",
    "        for c in df['channel'].unique():\n",
    "            for j in use_cats:\n",
    "                if f'{y}_{c}_{j}' not in bins:\n",
    "                    max_unc = unc_func(y, c, j)\n",
    "                    tmp_df = df[(df.year == y)&(df.channel == c)&(df.jet_cat == j)]\n",
    "                    if len(tmp_df) > 0:\n",
    "                        edges = bin_binary_class_pred(tmp_df, max_unc, compact_samples=True, verbose=False)\n",
    "                        bins[f'{y}_{c}_{j}'] = list(edges)\n",
    "                    else:\n",
    "                        print(f'{y} {c} {j} no events')\n",
    "    return bins"
   ]
  },
  {
   "cell_type": "code",
   "execution_count": null,
   "metadata": {},
   "outputs": [],
   "source": [
    "def get_ams(bin_cut:float, df:pd.DataFrame, syst_b:float=0.1) -> None:\n",
    "    cut_df = df[df.pred >= bin_cut]\n",
    "    ams = calc_ams(cut_df.loc[cut_df.gen_target==1, 'gen_weight'].sum(),\n",
    "                   cut_df.loc[cut_df.gen_target==0, 'gen_weight'].sum(),\n",
    "                   unc_b=np.sqrt((syst_b*syst_b)+(1/(len(cut_df.loc[cut_df.gen_target==0, 'gen_weight'])))))\n",
    "    return ams if ams > 0 else 0"
   ]
  },
  {
   "cell_type": "code",
   "execution_count": null,
   "metadata": {},
   "outputs": [],
   "source": [
    "def quad_sum_ams(df:pd.DataFrame, bins:Dict[str,np.ndarray]) -> float:\n",
    "    ams = 0\n",
    "    for y in df.year.unique():\n",
    "        for c in df['channel'].unique():\n",
    "            for j in use_cats:\n",
    "                ams += np.square(get_ams(bins[f'{y}_{c}_{j}'][-2], df[(df.channel==c)&(df.jet_cat==j)&(df.year==y)]))\n",
    "    return np.sqrt(ams)"
   ]
  },
  {
   "cell_type": "code",
   "execution_count": null,
   "metadata": {},
   "outputs": [],
   "source": [
    "def score_mass_range(masses:List[float], spins:List[int]) -> str:\n",
    "    pt = PrettyTable(['Res. Mass']+[id2spin[s] for s in spins])\n",
    "    results = ['' for _ in spins]\n",
    "    for mass_id in progress_bar(masses):\n",
    "        row = [mass_id]\n",
    "        for i, spin_id in enumerate(spins):\n",
    "            df = load_df(set_0_fy, mass_id, id2spin[spin_id]).append(load_df(set_1_fy, mass_id, id2spin[spin_id]), ignore_index=True)\n",
    "            bins = bin_channel_category_dists(df, unc_func=get_max_unc)\n",
    "            ams = quad_sum_ams(df, bins)\n",
    "            row.append(ams)\n",
    "            results[i] += f'{ams:.3f}\\t'\n",
    "        pt.add_row(row)\n",
    "    print(pt)\n",
    "    print(results)\n",
    "    return results"
   ]
  },
  {
   "cell_type": "code",
   "execution_count": null,
   "metadata": {
    "scrolled": false
   },
   "outputs": [],
   "source": [
    "score_mass_range(masses[::4], spins)"
   ]
  },
  {
   "cell_type": "code",
   "execution_count": null,
   "metadata": {},
   "outputs": [],
   "source": []
  }
 ],
 "metadata": {
  "kernelspec": {
   "display_name": "Python 3",
   "language": "python",
   "name": "python3"
  },
  "language_info": {
   "codemirror_mode": {
    "name": "ipython",
    "version": 3
   },
   "file_extension": ".py",
   "mimetype": "text/x-python",
   "name": "python",
   "nbconvert_exporter": "python",
   "pygments_lexer": "ipython3",
   "version": "3.8.5"
  },
  "toc": {
   "base_numbering": 1,
   "nav_menu": {},
   "number_sections": true,
   "sideBar": true,
   "skip_h1_title": false,
   "title_cell": "Table of Contents",
   "title_sidebar": "Contents",
   "toc_cell": false,
   "toc_position": {},
   "toc_section_display": true,
   "toc_window_display": false
  }
 },
 "nbformat": 4,
 "nbformat_minor": 2
}
